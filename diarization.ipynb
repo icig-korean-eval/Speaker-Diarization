{
 "cells": [
  {
   "cell_type": "code",
   "execution_count": 1,
   "id": "a6449b5b-042a-477d-a551-2edea9a41a8f",
   "metadata": {},
   "outputs": [],
   "source": [
    "# pip install pyannote.audio"
   ]
  },
  {
   "cell_type": "code",
   "execution_count": 2,
   "id": "ad2f9020-e7ad-40b9-846b-3260f3441432",
   "metadata": {},
   "outputs": [
    {
     "name": "stderr",
     "output_type": "stream",
     "text": [
      "/home/mincong2/.local/lib/python3.12/site-packages/pydub/utils.py:170: RuntimeWarning: Couldn't find ffmpeg or avconv - defaulting to ffmpeg, but may not work\n",
      "  warn(\"Couldn't find ffmpeg or avconv - defaulting to ffmpeg, but may not work\", RuntimeWarning)\n"
     ]
    }
   ],
   "source": [
    "from pyannote.audio import Pipeline\n",
    "from pydub import AudioSegment\n",
    "import os"
   ]
  },
  {
   "cell_type": "code",
   "execution_count": 14,
   "id": "7927ed58-bbe6-4e8d-9a92-8fee07672acb",
   "metadata": {},
   "outputs": [],
   "source": [
    "audio_file = \"Pyannote/Test_data/test_1.wav\"\n",
    "pipeline = Pipeline.from_pretrained(\n",
    "    \"pyannote/speaker-diarization-3.1\",\n",
    "    use_auth_token=\"hf...\")"
   ]
  },
  {
   "cell_type": "code",
   "execution_count": 15,
   "id": "0c93f750-292a-4fd2-8b37-b5f424f8556a",
   "metadata": {},
   "outputs": [
    {
     "data": {
      "text/plain": [
       "<pyannote.audio.pipelines.speaker_diarization.SpeakerDiarization at 0x7372bb905f40>"
      ]
     },
     "execution_count": 15,
     "metadata": {},
     "output_type": "execute_result"
    }
   ],
   "source": [
    "import torch\n",
    "pipeline.to(torch.device(\"cuda\"))"
   ]
  },
  {
   "cell_type": "code",
   "execution_count": 21,
   "id": "9435baab-cfa8-4ffc-9b1b-3ef9cd8b5c63",
   "metadata": {},
   "outputs": [
    {
     "name": "stdout",
     "output_type": "stream",
     "text": [
      "4.81s ~ 7.19s: SPEAKER_01\n",
      "5.33s ~ 6.93s: SPEAKER_00\n",
      "8.72s ~ 12.37s: SPEAKER_01\n",
      "8.84s ~ 9.43s: SPEAKER_00\n",
      "13.06s ~ 14.34s: SPEAKER_01\n",
      "14.88s ~ 16.21s: SPEAKER_01\n",
      "17.01s ~ 17.73s: SPEAKER_01\n",
      "18.95s ~ 21.51s: SPEAKER_01\n",
      "22.17s ~ 22.59s: SPEAKER_01\n",
      "23.05s ~ 24.13s: SPEAKER_01\n",
      "25.36s ~ 25.98s: SPEAKER_01\n",
      "26.63s ~ 29.14s: SPEAKER_01\n",
      "26.71s ~ 27.45s: SPEAKER_00\n",
      "29.87s ~ 30.42s: SPEAKER_01\n",
      "31.23s ~ 31.84s: SPEAKER_01\n",
      "32.25s ~ 34.51s: SPEAKER_01\n",
      "35.89s ~ 37.75s: SPEAKER_00\n",
      "37.75s ~ 38.00s: SPEAKER_01\n",
      "38.42s ~ 39.79s: SPEAKER_01\n",
      "41.26s ~ 41.41s: SPEAKER_00\n",
      "41.41s ~ 42.78s: SPEAKER_01\n",
      "44.04s ~ 44.99s: SPEAKER_01\n",
      "45.59s ~ 47.06s: SPEAKER_01\n",
      "47.50s ~ 48.48s: SPEAKER_01\n",
      "47.70s ~ 48.61s: SPEAKER_00\n",
      "48.61s ~ 49.51s: SPEAKER_01\n",
      "49.98s ~ 52.63s: SPEAKER_01\n",
      "50.08s ~ 52.33s: SPEAKER_00\n",
      "52.83s ~ 53.27s: SPEAKER_01\n"
     ]
    }
   ],
   "source": [
    "diarization = pipeline(audio_file, num_speakers=2)\n",
    "\n",
    "for turn, _, speaker in diarization.itertracks(yield_label=True):\n",
    "    print(f\"{turn.start:.2f}s ~ {turn.end:.2f}s: {speaker}\")"
   ]
  },
  {
   "cell_type": "code",
   "execution_count": 20,
   "id": "efe5f714-f42f-4313-9f61-c9e5294fb9a9",
   "metadata": {},
   "outputs": [
    {
     "name": "stdout",
     "output_type": "stream",
     "text": [
      "Saved: Pyannote/speaker_segments/SPEAKER_01_0.wav\n",
      "Saved: Pyannote/speaker_segments/SPEAKER_01_1.wav\n",
      "Saved: Pyannote/speaker_segments/SPEAKER_01_2.wav\n",
      "Saved: Pyannote/speaker_segments/SPEAKER_01_3.wav\n",
      "Saved: Pyannote/speaker_segments/SPEAKER_01_4.wav\n",
      "Saved: Pyannote/speaker_segments/SPEAKER_01_5.wav\n",
      "Saved: Pyannote/speaker_segments/SPEAKER_01_6.wav\n",
      "Saved: Pyannote/speaker_segments/SPEAKER_01_7.wav\n",
      "Saved: Pyannote/speaker_segments/SPEAKER_01_8.wav\n",
      "Saved: Pyannote/speaker_segments/SPEAKER_01_9.wav\n",
      "Saved: Pyannote/speaker_segments/SPEAKER_01_10.wav\n",
      "Saved: Pyannote/speaker_segments/SPEAKER_01_11.wav\n",
      "Saved: Pyannote/speaker_segments/SPEAKER_01_12.wav\n",
      "Saved: Pyannote/speaker_segments/SPEAKER_01_13.wav\n",
      "Saved: Pyannote/speaker_segments/SPEAKER_01_14.wav\n",
      "Saved: Pyannote/speaker_segments/SPEAKER_01_15.wav\n",
      "Saved: Pyannote/speaker_segments/SPEAKER_01_16.wav\n",
      "Saved: Pyannote/speaker_segments/SPEAKER_01_17.wav\n",
      "Saved: Pyannote/speaker_segments/SPEAKER_01_18.wav\n",
      "Saved: Pyannote/speaker_segments/SPEAKER_01_19.wav\n",
      "Saved: Pyannote/speaker_segments/SPEAKER_01_20.wav\n",
      "Saved: Pyannote/speaker_segments/SPEAKER_01_21.wav\n",
      "Saved: Pyannote/speaker_segments/SPEAKER_00_0.wav\n",
      "Saved: Pyannote/speaker_segments/SPEAKER_00_1.wav\n",
      "Saved: Pyannote/speaker_segments/SPEAKER_00_2.wav\n",
      "Saved: Pyannote/speaker_segments/SPEAKER_00_3.wav\n",
      "Saved: Pyannote/speaker_segments/SPEAKER_00_4.wav\n",
      "Saved: Pyannote/speaker_segments/SPEAKER_00_5.wav\n",
      "Saved: Pyannote/speaker_segments/SPEAKER_00_6.wav\n"
     ]
    }
   ],
   "source": [
    "audio = AudioSegment.from_file(audio_file)\n",
    "\n",
    "output_dir = os.path.join(\"Pyannote\", \"speaker_segments\")\n",
    "os.makedirs(output_dir, exist_ok=True)\n",
    "\n",
    "speaker_segments = {} \n",
    "for turn, _, speaker in diarization.itertracks(yield_label=True):\n",
    "    if speaker not in speaker_segments:\n",
    "        speaker_segments[speaker] = []\n",
    "    speaker_segments[speaker].append((turn.start, turn.end))\n",
    "\n",
    "for speaker, segments in speaker_segments.items():\n",
    "    for idx, (start, end) in enumerate(segments):\n",
    "        #밀리초단위여서\n",
    "        segment = audio[int(start * 1000):int(end * 1000)]\n",
    "        filename = f\"{output_dir}/{speaker}_{idx}.wav\"\n",
    "        segment.export(filename, format=\"wav\")\n",
    "        print(f\"Saved: {filename}\")"
   ]
  },
  {
   "cell_type": "code",
   "execution_count": null,
   "id": "f92e599e-60d9-4ef5-a513-47e022e90907",
   "metadata": {},
   "outputs": [],
   "source": [
    "# 겹치는 구간 확인"
   ]
  },
  {
   "cell_type": "code",
   "execution_count": 22,
   "id": "b4a44d58-8247-4cdf-b0bf-373d102c6cf6",
   "metadata": {},
   "outputs": [
    {
     "name": "stdout",
     "output_type": "stream",
     "text": [
      "Overlapping segments:\n",
      "5.33s ~ 6.93s: ('SPEAKER_01', 'SPEAKER_00')\n",
      "8.84s ~ 9.43s: ('SPEAKER_01', 'SPEAKER_00')\n",
      "26.71s ~ 27.45s: ('SPEAKER_01', 'SPEAKER_00')\n",
      "47.70s ~ 48.48s: ('SPEAKER_01', 'SPEAKER_00')\n",
      "50.08s ~ 52.33s: ('SPEAKER_01', 'SPEAKER_00')\n"
     ]
    }
   ],
   "source": [
    "segments = []\n",
    "for turn, _, speaker in diarization.itertracks(yield_label=True):\n",
    "    segments.append({\"start\": turn.start, \"end\": turn.end, \"speaker\": speaker})\n",
    "\n",
    "overlaps = []\n",
    "for i in range(len(segments)):\n",
    "    for j in range(i+1, len(segments)):\n",
    "        s1 = segments[i]\n",
    "        s2 = segments[j]\n",
    "        if s1['speaker'] != s2['speaker']:\n",
    "            latest_start = max(s1['start'], s2['start'])\n",
    "            earliest_end = min(s1['end'], s2['end'])\n",
    "            if latest_start < earliest_end: \n",
    "                overlaps.append({\n",
    "                    \"start\": latest_start,\n",
    "                    \"end\": earliest_end,\n",
    "                    \"speakers\": (s1['speaker'], s2['speaker'])\n",
    "                })\n",
    "\n",
    "print(\"Overlapping segments:\")\n",
    "for o in overlaps:\n",
    "    print(f\"{o['start']:.2f}s ~ {o['end']:.2f}s: {o['speakers']}\")"
   ]
  },
  {
   "cell_type": "code",
   "execution_count": 23,
   "id": "d3b85fff-507c-4504-b73b-8387dac2ac80",
   "metadata": {},
   "outputs": [
    {
     "data": {
      "image/png": "[encoded data removed]",
      "text/plain": [
       "<Figure size 1200x300 with 1 Axes>"
      ]
     },
     "metadata": {},
     "output_type": "display_data"
    }
   ],
   "source": [
    "import matplotlib.pyplot as plt\n",
    "\n",
    "fig, ax = plt.subplots(figsize=(12, 3))\n",
    "colors = {\"SPEAKER_00\": \"skyblue\", \"SPEAKER_01\": \"salmon\"}\n",
    "\n",
    "for segment in segments:\n",
    "    ax.plot([segment[\"start\"], segment[\"end\"]], \n",
    "            [segment[\"speaker\"], segment[\"speaker\"]],\n",
    "            color=colors[segment[\"speaker\"]], linewidth=6)\n",
    "\n",
    "ax.set_yticks([\"SPEAKER_00\", \"SPEAKER_01\"])\n",
    "ax.set_xlabel(\"Time (s)\")\n",
    "ax.set_title(\"Speaker Diarization Timeline\")\n",
    "plt.grid(True)\n",
    "plt.tight_layout()\n",
    "plt.show()"
   ]
  },
  {
   "cell_type": "code",
   "execution_count": null,
   "id": "520a9e74-4eb2-4233-82dd-cf3d34292ea0",
   "metadata": {},
   "outputs": [],
   "source": []
  },
  {
   "cell_type": "code",
   "execution_count": null,
   "id": "c95deb28-7a9d-4d9e-a22b-dca94bfcde50",
   "metadata": {},
   "outputs": [],
   "source": []
  }
 ],
 "metadata": {
  "kernelspec": {
   "display_name": "Python 3 (ipykernel)",
   "language": "python",
   "name": "python3"
  },
  "language_info": {
   "codemirror_mode": {
    "name": "ipython",
    "version": 3
   },
   "file_extension": ".py",
   "mimetype": "text/x-python",
   "name": "python",
   "nbconvert_exporter": "python",
   "pygments_lexer": "ipython3",
   "version": "3.12.8"
  }
 },
 "nbformat": 4,
 "nbformat_minor": 5
}
